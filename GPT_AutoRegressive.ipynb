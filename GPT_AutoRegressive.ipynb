{
  "nbformat": 4,
  "nbformat_minor": 0,
  "metadata": {
    "colab": {
      "provenance": [],
      "gpuType": "T4"
    },
    "kernelspec": {
      "name": "python3",
      "display_name": "Python 3"
    },
    "language_info": {
      "name": "python"
    },
    "accelerator": "GPU"
  },
  "cells": [
    {
      "cell_type": "code",
      "source": [
        "!mkdir ~/.kaggle\n",
        "!cp /content/drive/MyDrive/GAN_Datasets/kaggle.json ~/.kaggle/\n",
        "!kaggle datasets download -d zynicide/wine-reviews"
      ],
      "metadata": {
        "colab": {
          "base_uri": "https://localhost:8080/"
        },
        "id": "y5_5jEx9xaRz",
        "outputId": "b5e2d629-5b96-4a51-f323-8055ffd0ac67"
      },
      "execution_count": null,
      "outputs": [
        {
          "output_type": "stream",
          "name": "stdout",
          "text": [
            "mkdir: cannot create directory ‘/root/.kaggle’: File exists\n",
            "wine-reviews.zip: Skipping, found more recently modified local copy (use --force to force download)\n"
          ]
        }
      ]
    },
    {
      "cell_type": "code",
      "source": [
        "!unzip /content/wine-reviews.zip -d /content/drive/MyDrive/GAN_Datasets/wine-reviews/"
      ],
      "metadata": {
        "colab": {
          "base_uri": "https://localhost:8080/"
        },
        "id": "u9rWptPryTBM",
        "outputId": "ea26ec0f-6eaa-44be-9e5a-d2de576cde32"
      },
      "execution_count": null,
      "outputs": [
        {
          "output_type": "stream",
          "name": "stdout",
          "text": [
            "Archive:  /content/wine-reviews.zip\n",
            "replace /content/drive/MyDrive/GAN_Datasets/wine-reviews/winemag-data-130k-v2.csv? [y]es, [n]o, [A]ll, [N]one, [r]ename: n\n",
            "replace /content/drive/MyDrive/GAN_Datasets/wine-reviews/winemag-data-130k-v2.json? [y]es, [n]o, [A]ll, [N]one, [r]ename: n\n",
            "replace /content/drive/MyDrive/GAN_Datasets/wine-reviews/winemag-data_first150k.csv? [y]es, [n]o, [A]ll, [N]one, [r]ename: n\n"
          ]
        }
      ]
    },
    {
      "cell_type": "code",
      "execution_count": null,
      "metadata": {
        "id": "x05ktOaJwrMB"
      },
      "outputs": [],
      "source": [
        "%load_ext autoreload\n",
        "%autoreload 2\n",
        "import numpy as np\n",
        "import json\n",
        "import re\n",
        "import string\n",
        "from IPython.display import display, HTML\n",
        "\n",
        "import tensorflow as tf\n",
        "from tensorflow.keras import layers, models, losses, callbacks"
      ]
    },
    {
      "cell_type": "code",
      "source": [
        "# Parameters\n",
        "VOCAB_SIZE = 10000\n",
        "MAX_LEN = 80\n",
        "EMBEDDING_DIM = 256\n",
        "KEY_DIM = 256\n",
        "N_HEADS = 2\n",
        "FEED_FORWARD_DIM = 256\n",
        "VALIDATION_SPLIT = 0.2\n",
        "SEED = 42\n",
        "LOAD_MODEL = False\n",
        "BATCH_SIZE = 32\n",
        "EPOCHS = 5"
      ],
      "metadata": {
        "id": "RZKtZIGkxUfo"
      },
      "execution_count": null,
      "outputs": []
    },
    {
      "cell_type": "code",
      "source": [
        "# Load the full dataset\n",
        "with open(\"/content/drive/MyDrive/GAN_Datasets/wine-reviews/winemag-data-130k-v2.json\") as json_data:\n",
        "    wine_data = json.load(json_data)"
      ],
      "metadata": {
        "id": "LwrKWBExx_I7"
      },
      "execution_count": null,
      "outputs": []
    },
    {
      "cell_type": "code",
      "source": [
        "wine_data[10]"
      ],
      "metadata": {
        "colab": {
          "base_uri": "https://localhost:8080/"
        },
        "id": "AKa55U5szIU_",
        "outputId": "4eabc7f4-a0a8-44d4-b911-00e89cac01df"
      },
      "execution_count": null,
      "outputs": [
        {
          "output_type": "execute_result",
          "data": {
            "text/plain": [
              "{'points': '87',\n",
              " 'title': 'Kirkland Signature 2011 Mountain Cuvée Cabernet Sauvignon (Napa Valley)',\n",
              " 'description': 'Soft, supple plum envelopes an oaky structure in this Cabernet, supported by 15% Merlot. Coffee and chocolate complete the picture, finishing strong at the end, resulting in a value-priced wine of attractive flavor and immediate accessibility.',\n",
              " 'taster_name': 'Virginie Boone',\n",
              " 'taster_twitter_handle': '@vboone',\n",
              " 'price': 19,\n",
              " 'designation': 'Mountain Cuvée',\n",
              " 'variety': 'Cabernet Sauvignon',\n",
              " 'region_1': 'Napa Valley',\n",
              " 'region_2': 'Napa',\n",
              " 'province': 'California',\n",
              " 'country': 'US',\n",
              " 'winery': 'Kirkland Signature'}"
            ]
          },
          "metadata": {},
          "execution_count": 6
        }
      ]
    },
    {
      "cell_type": "code",
      "source": [
        "# Filter the dataset\n",
        "filtered_data = [\n",
        "    \"wine review : \"\n",
        "    + x[\"country\"]\n",
        "    + \" : \"\n",
        "    + x[\"province\"]\n",
        "    + \" : \"\n",
        "    + x[\"variety\"]\n",
        "    + \" : \"\n",
        "    + x[\"description\"]\n",
        "    for x in wine_data\n",
        "    if x[\"country\"] is not None\n",
        "    and x[\"province\"] is not None\n",
        "    and x[\"variety\"] is not None\n",
        "    and x[\"description\"] is not None\n",
        "]"
      ],
      "metadata": {
        "id": "cvuAnT5BzN8K"
      },
      "execution_count": null,
      "outputs": []
    },
    {
      "cell_type": "code",
      "source": [
        "# Count the recipes\n",
        "n_wines = len(filtered_data)\n",
        "print(f\"{n_wines} recipes loaded\")"
      ],
      "metadata": {
        "colab": {
          "base_uri": "https://localhost:8080/"
        },
        "id": "P8yqhQKnzWTB",
        "outputId": "80d542e2-e587-411a-9c30-729f424e533b"
      },
      "execution_count": null,
      "outputs": [
        {
          "output_type": "stream",
          "name": "stdout",
          "text": [
            "129907 recipes loaded\n"
          ]
        }
      ]
    },
    {
      "cell_type": "code",
      "source": [
        "example = filtered_data[25]\n",
        "print(example)"
      ],
      "metadata": {
        "colab": {
          "base_uri": "https://localhost:8080/"
        },
        "id": "Gj51sASw7Ebj",
        "outputId": "5a6700ba-2699-482e-bbd4-d81d2223c145"
      },
      "execution_count": null,
      "outputs": [
        {
          "output_type": "stream",
          "name": "stdout",
          "text": [
            "wine review : US : California : Pinot Noir : Oak and earth intermingle around robust aromas of wet forest floor in this vineyard-designated Pinot that hails from a high-elevation site. Small in production, it offers intense, full-bodied raspberry and blackberry steeped in smoky spice and smooth texture.\n"
          ]
        }
      ]
    },
    {
      "cell_type": "markdown",
      "source": [
        "# Tokenize the data"
      ],
      "metadata": {
        "id": "V_BlYpKq7K1I"
      }
    },
    {
      "cell_type": "code",
      "source": [
        "# Pad the punctuation, to treat them as separate 'words'\n",
        "def pad_punctuation(s):\n",
        "    s = re.sub(f\"([{string.punctuation}, '\\n'])\", r\" \\1 \", s)\n",
        "    s = re.sub(\" +\", \" \", s)\n",
        "    return s\n",
        "\n",
        "text_data = [pad_punctuation(x) for x in filtered_data]"
      ],
      "metadata": {
        "id": "ntv1fYqN7GI6"
      },
      "execution_count": null,
      "outputs": []
    },
    {
      "cell_type": "code",
      "source": [
        "# Display an example of a recipe\n",
        "example_data = text_data[25]\n",
        "example_data"
      ],
      "metadata": {
        "colab": {
          "base_uri": "https://localhost:8080/",
          "height": 70
        },
        "id": "luHq5aPw7Rkn",
        "outputId": "3d702f9b-6cb4-4106-e2f7-23fede5c9ea5"
      },
      "execution_count": null,
      "outputs": [
        {
          "output_type": "execute_result",
          "data": {
            "text/plain": [
              "'wine review : US : California : Pinot Noir : Oak and earth intermingle around robust aromas of wet forest floor in this vineyard - designated Pinot that hails from a high - elevation site . Small in production , it offers intense , full - bodied raspberry and blackberry steeped in smoky spice and smooth texture . '"
            ],
            "application/vnd.google.colaboratory.intrinsic+json": {
              "type": "string"
            }
          },
          "metadata": {},
          "execution_count": 11
        }
      ]
    },
    {
      "cell_type": "code",
      "source": [
        "# Convert to a Tensorflow Dataset\n",
        "text_ds = (\n",
        "    tf.data.Dataset.from_tensor_slices(text_data)\n",
        "    .batch(BATCH_SIZE)\n",
        "    .shuffle(1000)\n",
        ")"
      ],
      "metadata": {
        "id": "1jHumsLv7Ymr"
      },
      "execution_count": null,
      "outputs": []
    },
    {
      "cell_type": "code",
      "source": [
        "# Create a vectorisation layer\n",
        "vectorize_layer = layers.TextVectorization(\n",
        "    standardize=\"lower\",\n",
        "    max_tokens=VOCAB_SIZE,\n",
        "    output_mode=\"int\",\n",
        "    output_sequence_length=MAX_LEN + 1,\n",
        ")"
      ],
      "metadata": {
        "id": "PbfUBhhz7d65"
      },
      "execution_count": null,
      "outputs": []
    },
    {
      "cell_type": "code",
      "source": [
        "# Adapt the layer to the training set\n",
        "vectorize_layer.adapt(text_ds)\n",
        "vocab = vectorize_layer.get_vocabulary()"
      ],
      "metadata": {
        "id": "4SurdAqp7hZd"
      },
      "execution_count": null,
      "outputs": []
    },
    {
      "cell_type": "code",
      "source": [
        "# Display some token:word mappings\n",
        "for i, word in enumerate(vocab[:10]):\n",
        "    print(f\"{i}: {word}\")"
      ],
      "metadata": {
        "colab": {
          "base_uri": "https://localhost:8080/"
        },
        "id": "9eEAtY6h7lMD",
        "outputId": "48ff0f6d-44ed-4f55-88c0-0226700bf73f"
      },
      "execution_count": null,
      "outputs": [
        {
          "output_type": "stream",
          "name": "stdout",
          "text": [
            "0: \n",
            "1: [UNK]\n",
            "2: :\n",
            "3: ,\n",
            "4: .\n",
            "5: and\n",
            "6: the\n",
            "7: wine\n",
            "8: a\n",
            "9: of\n"
          ]
        }
      ]
    },
    {
      "cell_type": "code",
      "source": [
        "# Display the same example converted to ints\n",
        "example_tokenised = vectorize_layer(example_data)\n",
        "print(example_tokenised.numpy())"
      ],
      "metadata": {
        "colab": {
          "base_uri": "https://localhost:8080/"
        },
        "id": "Q4TysFvC7oNB",
        "outputId": "1645378f-fe9a-45cc-ca08-3000b812f619"
      },
      "execution_count": null,
      "outputs": [
        {
          "output_type": "stream",
          "name": "stdout",
          "text": [
            "[   7   10    2   20    2   29    2   43   62    2   55    5  243 4145\n",
            "  453  634   26    9  497  499  667   17   12  142   14 2214   43   25\n",
            " 2484   32    8  223   14 2213  948    4  594   17  987    3   15   75\n",
            "  237    3   64   14   82   97    5   74 2633   17  198   49    5  125\n",
            "   77    4    0    0    0    0    0    0    0    0    0    0    0    0\n",
            "    0    0    0    0    0    0    0    0    0    0    0]\n"
          ]
        }
      ]
    },
    {
      "cell_type": "markdown",
      "source": [
        "# Create the Training Set"
      ],
      "metadata": {
        "id": "8E2H5oNo7tUf"
      }
    },
    {
      "cell_type": "code",
      "source": [
        "# Create the training set of recipes and the same text shifted by one word\n",
        "def prepare_inputs(text):\n",
        "    text = tf.expand_dims(text, -1)\n",
        "    tokenized_sentences = vectorize_layer(text)\n",
        "    x = tokenized_sentences[:, :-1]\n",
        "    y = tokenized_sentences[:, 1:]\n",
        "    return x, y\n",
        "\n",
        "train_ds = text_ds.map(prepare_inputs)"
      ],
      "metadata": {
        "id": "ggH5tugL7rJ6"
      },
      "execution_count": null,
      "outputs": []
    },
    {
      "cell_type": "code",
      "source": [
        "example_input_output = train_ds.take(1).get_single_element()"
      ],
      "metadata": {
        "id": "m9fwGYnd71nR"
      },
      "execution_count": null,
      "outputs": []
    },
    {
      "cell_type": "code",
      "source": [
        "# Example Input\n",
        "example_input_output[0][0]"
      ],
      "metadata": {
        "colab": {
          "base_uri": "https://localhost:8080/"
        },
        "id": "2B5yIqzb78cl",
        "outputId": "296a97d0-25de-4d76-80ef-aca49ebecd01"
      },
      "execution_count": null,
      "outputs": [
        {
          "output_type": "execute_result",
          "data": {
            "text/plain": [
              "<tf.Tensor: shape=(80,), dtype=int64, numpy=\n",
              "array([   7,   10,    2,   42,    2,  214,    2,   61,    2, 5852,   14,\n",
              "        371,   14,  387,  451,   23,    6,  455,    1, 2457,    9,   12,\n",
              "       1312,  911,  142,  241,  362,   17,   12,  109,    7,    4,   15,\n",
              "         41,    8,  423,  136,  110,   25, 2513,   11,   54,   38,  202,\n",
              "          5,  115,   22,    4,   30,    5,    8,  180,   77,  672,    6,\n",
              "          7,  362,  537,    4,   35,   32,  407,    4,    0,    0,    0,\n",
              "          0,    0,    0,    0,    0,    0,    0,    0,    0,    0,    0,\n",
              "          0,    0,    0])>"
            ]
          },
          "metadata": {},
          "execution_count": 19
        }
      ]
    },
    {
      "cell_type": "code",
      "source": [
        "# Example Output (shifted by one token)\n",
        "example_input_output[1][0]"
      ],
      "metadata": {
        "colab": {
          "base_uri": "https://localhost:8080/"
        },
        "id": "Ii7ZozG47_Ne",
        "outputId": "9ee44d0e-54d0-4bad-8a94-e9bbb8420362"
      },
      "execution_count": null,
      "outputs": [
        {
          "output_type": "execute_result",
          "data": {
            "text/plain": [
              "<tf.Tensor: shape=(80,), dtype=int64, numpy=\n",
              "array([  10,    2,   42,    2,  214,    2,   61,    2, 5852,   14,  371,\n",
              "         14,  387,  451,   23,    6,  455,    1, 2457,    9,   12, 1312,\n",
              "        911,  142,  241,  362,   17,   12,  109,    7,    4,   15,   41,\n",
              "          8,  423,  136,  110,   25, 2513,   11,   54,   38,  202,    5,\n",
              "        115,   22,    4,   30,    5,    8,  180,   77,  672,    6,    7,\n",
              "        362,  537,    4,   35,   32,  407,    4,    0,    0,    0,    0,\n",
              "          0,    0,    0,    0,    0,    0,    0,    0,    0,    0,    0,\n",
              "          0,    0,    0])>"
            ]
          },
          "metadata": {},
          "execution_count": 20
        }
      ]
    },
    {
      "cell_type": "markdown",
      "source": [
        "# Create the causal attention mask function"
      ],
      "metadata": {
        "id": "6_1nzY1Q8G91"
      }
    },
    {
      "cell_type": "code",
      "source": [
        "def causal_attention_mask(batch_size, n_dest, n_src, dtype):\n",
        "    i = tf.range(n_dest)[:, None]\n",
        "    j = tf.range(n_src)\n",
        "    m = i >= j - n_src + n_dest\n",
        "    mask = tf.cast(m, dtype)\n",
        "    mask = tf.reshape(mask, [1, n_dest, n_src])\n",
        "    mult = tf.concat(\n",
        "        [tf.expand_dims(batch_size, -1), tf.constant([1, 1], dtype=tf.int32)], 0\n",
        "    )\n",
        "    return tf.tile(mask, mult)\n",
        "\n",
        "\n",
        "np.transpose(causal_attention_mask(1, 10, 10, dtype=tf.int32)[0])"
      ],
      "metadata": {
        "colab": {
          "base_uri": "https://localhost:8080/"
        },
        "id": "fV7xfbes8Bsw",
        "outputId": "f89b227b-4f84-4285-ca32-274e695f257d"
      },
      "execution_count": null,
      "outputs": [
        {
          "output_type": "execute_result",
          "data": {
            "text/plain": [
              "array([[1, 1, 1, 1, 1, 1, 1, 1, 1, 1],\n",
              "       [0, 1, 1, 1, 1, 1, 1, 1, 1, 1],\n",
              "       [0, 0, 1, 1, 1, 1, 1, 1, 1, 1],\n",
              "       [0, 0, 0, 1, 1, 1, 1, 1, 1, 1],\n",
              "       [0, 0, 0, 0, 1, 1, 1, 1, 1, 1],\n",
              "       [0, 0, 0, 0, 0, 1, 1, 1, 1, 1],\n",
              "       [0, 0, 0, 0, 0, 0, 1, 1, 1, 1],\n",
              "       [0, 0, 0, 0, 0, 0, 0, 1, 1, 1],\n",
              "       [0, 0, 0, 0, 0, 0, 0, 0, 1, 1],\n",
              "       [0, 0, 0, 0, 0, 0, 0, 0, 0, 1]], dtype=int32)"
            ]
          },
          "metadata": {},
          "execution_count": 21
        }
      ]
    },
    {
      "cell_type": "markdown",
      "source": [
        "Create a Transformer Block Layer"
      ],
      "metadata": {
        "id": "tgPxqWNC9Muo"
      }
    },
    {
      "cell_type": "code",
      "source": [
        "class TransformerBlock(layers.Layer):\n",
        "  def __init__(self, num_heads, key_dim, embed_dim, ff_dim, dropout_rate=0.1):\n",
        "    super(TransformerBlock, self).__init__()\n",
        "    self.num_heads = num_heads\n",
        "    self.key_dim = key_dim\n",
        "    self.embed_dim = embed_dim\n",
        "    self.ff_dim = ff_dim\n",
        "    self.dropout_rate = dropout_rate\n",
        "    self.attn = layers.MultiHeadAttention(num_heads, key_dim, output_shape=embed_dim)\n",
        "    self.dropout_1 = layers.Dropout(self.dropout_rate)\n",
        "    self.ln_1 = layers.LayerNormalization(epsilon=1e-6)\n",
        "    self.ffn_1 = layers.Dense(self.ff_dim, activation='relu')\n",
        "    self.ffn_2 = layers.Dense(self.embed_dim)\n",
        "    self.dropout_2 = layers.Dropout(self.dropout_rate)\n",
        "    self.ln_2 = layers.LayerNormalization(epsilon=1e-6)\n",
        "\n",
        "  def call(self, inputs):\n",
        "    input_shape = tf.shape(inputs)\n",
        "    batch_size = input_shape[0]\n",
        "    seq_len = input_shape[1]\n",
        "    casual_mask = causal_attention_mask(batch_size, seq_len, seq_len, tf.bool)\n",
        "    attention_output, attention_scores = self.attn(inputs, inputs, attention_mask=casual_mask, return_attention_scores=True)\n",
        "    attention_output = self.dropout_1(attention_output)\n",
        "    out1 = self.ln_1(inputs + attention_output)\n",
        "    ffn_1 = self.ffn_1(out1)\n",
        "    ffn_2 = self.ffn_2(ffn_1)\n",
        "    ffn_output = self.dropout_2(ffn_2)\n",
        "    return (self.ln_2(out1 + ffn_output), attention_scores)\n",
        "\n",
        "  def get_config(self):\n",
        "    config = super().get_config()\n",
        "    config.update({\n",
        "        \"key_dim\" : self.key_dim,\n",
        "        \"embed_dim\" : self.embed_dim,\n",
        "        \"num_heads\" : self.num_heads,\n",
        "        \"ff_dim\" : self.ff_dim,\n",
        "        \"dropout_rate\" :  self.dropout_rate,\n",
        "    })\n",
        "    return config"
      ],
      "metadata": {
        "id": "k-ZotJC48pAl"
      },
      "execution_count": null,
      "outputs": []
    },
    {
      "cell_type": "markdown",
      "source": [
        "## Create the Token and Position Embedding"
      ],
      "metadata": {
        "id": "uQI5IUDAOBKz"
      }
    },
    {
      "cell_type": "code",
      "source": [
        "class TokenAndPositionEmbedding(layers.Layer):\n",
        "  def __init__(self, max_len, vocab_size, embed_dim):\n",
        "    super(TokenAndPositionEmbedding, self).__init__()\n",
        "    self.max_len = max_len\n",
        "    self.vocab_size = vocab_size\n",
        "    self.embed_dim = embed_dim\n",
        "    self.token_emb = layers.Embedding(input_dim=vocab_size, output_dim=embed_dim)\n",
        "    self.pos_emb = layers.Embedding(input_dim=max_len, output_dim=embed_dim)\n",
        "\n",
        "  def call(self, x):\n",
        "    maxlen = tf.shape(x)[-1]\n",
        "    positions = tf.range(start=0, limit=maxlen, delta=1)\n",
        "    positions = self.pos_emb(positions)\n",
        "    x = self.token_emb(x)\n",
        "    return x + positions\n",
        "\n",
        "  def get_config(self):\n",
        "    config = super().get_config()\n",
        "    config.update({\n",
        "        \"max_len\" : self.max_len,\n",
        "        \"vocab_size\": self.vocab_size,\n",
        "        \"embed_dim\" : self.embed_dim\n",
        "    })\n",
        "    return config"
      ],
      "metadata": {
        "id": "5Oqhu0-6NloB"
      },
      "execution_count": null,
      "outputs": []
    },
    {
      "cell_type": "markdown",
      "source": [
        "## Build the transformer Model"
      ],
      "metadata": {
        "id": "kbonJf4xeVe5"
      }
    },
    {
      "cell_type": "code",
      "source": [
        "inputs = layers.Input(shape=(None,),dtype=tf.int32)\n",
        "x = TokenAndPositionEmbedding(MAX_LEN, VOCAB_SIZE, EMBEDDING_DIM)(inputs)\n",
        "x, attention_scores = TransformerBlock(N_HEADS, KEY_DIM, EMBEDDING_DIM, FEED_FORWARD_DIM)(x)\n",
        "outputs = layers.Dense(VOCAB_SIZE, activation='softmax')(x)\n",
        "gpt = models.Model(inputs=inputs, outputs=[outputs, attention_scores])\n",
        "gpt.compile(\"adam\", loss=[losses.SparseCategoricalCrossentropy(), None])"
      ],
      "metadata": {
        "id": "xE6sys7ldqEH"
      },
      "execution_count": null,
      "outputs": []
    },
    {
      "cell_type": "code",
      "source": [
        "gpt.summary()"
      ],
      "metadata": {
        "colab": {
          "base_uri": "https://localhost:8080/"
        },
        "id": "UNTkBJENkE5a",
        "outputId": "c95592ac-a6a9-444f-b3c4-4c3bc27153f2"
      },
      "execution_count": null,
      "outputs": [
        {
          "output_type": "stream",
          "name": "stdout",
          "text": [
            "Model: \"model\"\n",
            "_________________________________________________________________\n",
            " Layer (type)                Output Shape              Param #   \n",
            "=================================================================\n",
            " input_1 (InputLayer)        [(None, None)]            0         \n",
            "                                                                 \n",
            " token_and_position_embeddi  (None, None, 256)         2580480   \n",
            " ng (TokenAndPositionEmbedd                                      \n",
            " ing)                                                            \n",
            "                                                                 \n",
            " transformer_block (Transfo  ((None, None, 256),       658688    \n",
            " rmerBlock)                   (None, 2, None, None))             \n",
            "                                                                 \n",
            " dense_2 (Dense)             (None, None, 10000)       2570000   \n",
            "                                                                 \n",
            "=================================================================\n",
            "Total params: 5809168 (22.16 MB)\n",
            "Trainable params: 5809168 (22.16 MB)\n",
            "Non-trainable params: 0 (0.00 Byte)\n",
            "_________________________________________________________________\n"
          ]
        }
      ]
    },
    {
      "cell_type": "code",
      "source": [
        "if LOAD_MODEL:\n",
        "  gpt = models.load_model(\"./model/gpt/\", compile=True)"
      ],
      "metadata": {
        "id": "lae4Xh76lImO"
      },
      "execution_count": null,
      "outputs": []
    },
    {
      "cell_type": "markdown",
      "source": [
        "## Train Generator"
      ],
      "metadata": {
        "id": "FLEPNpEnlaAv"
      }
    },
    {
      "cell_type": "code",
      "source": [
        "class TextGenerator(callbacks.Callback):\n",
        "  def __init__(self, index_to_word, top_k=10):\n",
        "    self.index_to_word = index_to_word\n",
        "    self.word_to_index = {word:index for index in enumerate(index_to_word)}\n",
        "\n",
        "  def sample_from(self, probs, temperature):\n",
        "    probs = probs ** (1/temperature)\n",
        "    probs = probs/np.sum(probs)\n",
        "    return np.random.choice(len(probs), p=probs), probs\n",
        "\n",
        "  def generate(self, start_prompt, max_tokens, temperature):\n",
        "    start_tokens = [self.word_to_index.get(x, 1) for x in start_prompt.split()]\n",
        "    sample_token = None\n",
        "    info = []\n",
        "    while len(start_tokens) < max_tokens and sample_token !=0:\n",
        "      x = np.array([start_tokens])\n",
        "      y, att = self.model.predict(x, verbose=0)\n",
        "      sample_token, probs = self.sample_from(y[0][-1], temperature)\n",
        "      info.append(\n",
        "                {\n",
        "                    \"prompt\": start_prompt,\n",
        "                    \"word_probs\": probs,\n",
        "                    \"atts\": att[0, :, -1, :],\n",
        "                }\n",
        "            )\n",
        "      start_tokens.append(sample_token)\n",
        "      start_prompt = start_prompt + \" \" + self.index_to_word[sample_token]\n",
        "      print(f\"\\ngenerated text:\\n{start_prompt}\\n\")\n",
        "      return info\n",
        "\n",
        "  def on_epoch_end(self, epoch, logs=None):\n",
        "    self.generate(\"wine review\", max_tokens=80, temperature=1.0)\n"
      ],
      "metadata": {
        "id": "1tZxSji2lXPW"
      },
      "execution_count": null,
      "outputs": []
    },
    {
      "cell_type": "code",
      "source": [
        "# Create a model save checkpoint\n",
        "model_checkpoint_callback = callbacks.ModelCheckpoint(\n",
        "    filepath=\"./checkpoint/checkpoint.ckpt\",\n",
        "    save_weights_only=True,\n",
        "    save_freq=\"epoch\",\n",
        "    verbose=0,\n",
        ")\n",
        "\n",
        "tensorboard_callback = callbacks.TensorBoard(log_dir=\"./logs\")\n",
        "\n",
        "# Tokenize starting prompt\n",
        "text_generator = TextGenerator(vocab)"
      ],
      "metadata": {
        "id": "bBU3_1EU_MGd"
      },
      "execution_count": null,
      "outputs": []
    },
    {
      "cell_type": "code",
      "source": [
        "gpt.fit(\n",
        "    train_ds,\n",
        "    epochs=EPOCHS,\n",
        "    callbacks=[model_checkpoint_callback, tensorboard_callback, text_generator],\n",
        ")"
      ],
      "metadata": {
        "colab": {
          "base_uri": "https://localhost:8080/"
        },
        "id": "DvhbNfd0_QDG",
        "outputId": "a7fa244f-4664-448b-fc5f-754f7e7a1a03"
      },
      "execution_count": null,
      "outputs": [
        {
          "output_type": "stream",
          "name": "stdout",
          "text": [
            "Epoch 1/5\n",
            "4059/4060 [============================>.] - ETA: 0s - loss: 2.2523 - dense_2_loss: 2.2523\n",
            "generated text:\n",
            "wine review has\n",
            "\n",
            "4060/4060 [==============================] - 192s 46ms/step - loss: 2.2523 - dense_2_loss: 2.2523\n",
            "Epoch 2/5\n",
            "4060/4060 [==============================] - ETA: 0s - loss: 1.9595 - dense_2_loss: 1.9595\n",
            "generated text:\n",
            "wine review red\n",
            "\n",
            "4060/4060 [==============================] - 112s 28ms/step - loss: 1.9595 - dense_2_loss: 1.9595\n",
            "Epoch 3/5\n",
            "4060/4060 [==============================] - ETA: 0s - loss: 1.8890 - dense_2_loss: 1.8890\n",
            "generated text:\n",
            "wine review .\n",
            "\n",
            "4060/4060 [==============================] - 112s 28ms/step - loss: 1.8890 - dense_2_loss: 1.8890\n",
            "Epoch 4/5\n",
            "4060/4060 [==============================] - ETA: 0s - loss: 1.8469 - dense_2_loss: 1.8469\n",
            "generated text:\n",
            "wine review an\n",
            "\n",
            "4060/4060 [==============================] - 112s 28ms/step - loss: 1.8469 - dense_2_loss: 1.8469\n",
            "Epoch 5/5\n",
            "4059/4060 [============================>.] - ETA: 0s - loss: 1.8172 - dense_2_loss: 1.8172\n",
            "generated text:\n",
            "wine review in\n",
            "\n",
            "4060/4060 [==============================] - 112s 28ms/step - loss: 1.8172 - dense_2_loss: 1.8172\n"
          ]
        },
        {
          "output_type": "execute_result",
          "data": {
            "text/plain": [
              "<keras.src.callbacks.History at 0x7896d57cb130>"
            ]
          },
          "metadata": {},
          "execution_count": 29
        }
      ]
    },
    {
      "cell_type": "code",
      "source": [
        "# Save the final model\n",
        "gpt.save(\"./models/gpt\")"
      ],
      "metadata": {
        "id": "qiyS7d13_TBl"
      },
      "execution_count": null,
      "outputs": []
    },
    {
      "cell_type": "markdown",
      "source": [
        "# Generate text using the Transformer"
      ],
      "metadata": {
        "id": "7cdKLFHPL5Yi"
      }
    },
    {
      "cell_type": "code",
      "source": [
        "def print_probs(info, vocab, top_k=5):\n",
        "    for i in info:\n",
        "        highlighted_text = []\n",
        "        for word, att_score in zip(\n",
        "            i[\"prompt\"].split(), np.mean(i[\"atts\"], axis=0)\n",
        "        ):\n",
        "            highlighted_text.append(\n",
        "                '<span style=\"background-color:rgba(135,206,250,'\n",
        "                + str(att_score / max(np.mean(i[\"atts\"], axis=0)))\n",
        "                + ');\">'\n",
        "                + word\n",
        "                + \"</span>\"\n",
        "            )\n",
        "        highlighted_text = \" \".join(highlighted_text)\n",
        "        display(HTML(highlighted_text))\n",
        "\n",
        "        word_probs = i[\"word_probs\"]\n",
        "        p_sorted = np.sort(word_probs)[::-1][:top_k]\n",
        "        i_sorted = np.argsort(word_probs)[::-1][:top_k]\n",
        "        for p, i in zip(p_sorted, i_sorted):\n",
        "            print(f\"{vocab[i]}:   \\t{np.round(100*p,2)}%\")\n",
        "        print(\"--------\\n\")"
      ],
      "metadata": {
        "id": "Zyn9jagDL2Sx"
      },
      "execution_count": null,
      "outputs": []
    },
    {
      "cell_type": "code",
      "source": [
        "info = text_generator.generate(\n",
        "    \"wine review : us\", max_tokens=80, temperature=1.0\n",
        ")"
      ],
      "metadata": {
        "colab": {
          "base_uri": "https://localhost:8080/"
        },
        "id": "QXfcgwgLMFfd",
        "outputId": "e9e1dbc9-852a-427c-8e2f-43c9a6bc6e30"
      },
      "execution_count": null,
      "outputs": [
        {
          "output_type": "stream",
          "name": "stdout",
          "text": [
            "\n",
            "generated text:\n",
            "wine review : us makes\n",
            "\n"
          ]
        }
      ]
    },
    {
      "cell_type": "code",
      "source": [
        "info = text_generator.generate(\n",
        "    \"wine review : italy\", max_tokens=80, temperature=0.5\n",
        ")"
      ],
      "metadata": {
        "colab": {
          "base_uri": "https://localhost:8080/"
        },
        "id": "Bqsp51KGMQ1P",
        "outputId": "8cc194a5-0dfc-4fc3-cd09-d092714cd386"
      },
      "execution_count": null,
      "outputs": [
        {
          "output_type": "stream",
          "name": "stdout",
          "text": [
            "\n",
            "generated text:\n",
            "wine review : italy .\n",
            "\n"
          ]
        }
      ]
    },
    {
      "cell_type": "code",
      "source": [
        "info = text_generator.generate(\n",
        "    \"wine review : germany\", max_tokens=80, temperature=0.5\n",
        ")\n",
        "print_probs(info, vocab)"
      ],
      "metadata": {
        "id": "nVEHe_Y9MWpC",
        "outputId": "102f90ec-843b-4106-a914-2f520964cb72",
        "colab": {
          "base_uri": "https://localhost:8080/",
          "height": 225
        }
      },
      "execution_count": null,
      "outputs": [
        {
          "output_type": "stream",
          "name": "stdout",
          "text": [
            "\n",
            "generated text:\n",
            "wine review : germany .\n",
            "\n"
          ]
        },
        {
          "output_type": "display_data",
          "data": {
            "text/plain": [
              "<IPython.core.display.HTML object>"
            ],
            "text/html": [
              "<span style=\"background-color:rgba(135,206,250,0.83432245);\">wine</span> <span style=\"background-color:rgba(135,206,250,1.0);\">review</span> <span style=\"background-color:rgba(135,206,250,0.9025858);\">:</span> <span style=\"background-color:rgba(135,206,250,0.7055911);\">germany</span>"
            ]
          },
          "metadata": {}
        },
        {
          "output_type": "stream",
          "name": "stdout",
          "text": [
            "::   \t50.68%\n",
            ".:   \t31.29%\n",
            ",:   \t7.99%\n",
            "[UNK]:   \t3.22%\n",
            "is:   \t2.55%\n",
            "--------\n",
            "\n"
          ]
        }
      ]
    },
    {
      "cell_type": "code",
      "source": [],
      "metadata": {
        "id": "zqkS-D3eMaxt"
      },
      "execution_count": null,
      "outputs": []
    }
  ]
}