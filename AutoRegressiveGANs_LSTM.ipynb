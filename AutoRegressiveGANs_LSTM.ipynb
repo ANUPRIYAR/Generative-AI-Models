{
  "nbformat": 4,
  "nbformat_minor": 0,
  "metadata": {
    "colab": {
      "provenance": [],
      "gpuType": "T4"
    },
    "kernelspec": {
      "name": "python3",
      "display_name": "Python 3"
    },
    "language_info": {
      "name": "python"
    },
    "accelerator": "GPU"
  },
  "cells": [
    {
      "cell_type": "code",
      "execution_count": null,
      "metadata": {
        "id": "EY8GqW4b-JJT"
      },
      "outputs": [],
      "source": [
        "# !mkdir ~/.kaggle"
      ]
    },
    {
      "cell_type": "code",
      "source": [
        "# !cp /content/drive/MyDrive/GAN_Datasets/kaggle.json ~/.kaggle/"
      ],
      "metadata": {
        "id": "QWE2BCRLF7EL"
      },
      "execution_count": null,
      "outputs": []
    },
    {
      "cell_type": "code",
      "source": [
        "# !kaggle datasets download -d hugodarwood/epirecipn"
      ],
      "metadata": {
        "id": "jzKtO_4hGJy-"
      },
      "execution_count": null,
      "outputs": []
    },
    {
      "cell_type": "code",
      "source": [
        "# !unzip /content/epirecipes.zip -d /content/drive/MyDrive/GAN_Datasets/Recipes/"
      ],
      "metadata": {
        "id": "JCUUN0nWGw4u"
      },
      "execution_count": null,
      "outputs": []
    },
    {
      "cell_type": "code",
      "source": [
        "%load_ext autoreload\n",
        "%autoreload 2\n",
        "\n",
        "import numpy as np\n",
        "import json\n",
        "import re\n",
        "import string\n",
        "\n",
        "import tensorflow as tf\n",
        "from tensorflow.keras import layers, models, callbacks, losses"
      ],
      "metadata": {
        "id": "laNl73QYG6dr"
      },
      "execution_count": null,
      "outputs": []
    },
    {
      "cell_type": "code",
      "source": [
        "VOCAB_SIZE = 10000\n",
        "MAX_LEN = 200\n",
        "EMBEDDING_DIM = 100\n",
        "N_UNITS = 128\n",
        "VALIDATION_SPLIT = 0.2\n",
        "SEED = 42\n",
        "LOAD_MODEL = False\n",
        "BATCH_SIZE = 32\n",
        "EPOCHS = 25"
      ],
      "metadata": {
        "id": "H6QhbBN7uY7O"
      },
      "execution_count": null,
      "outputs": []
    },
    {
      "cell_type": "markdown",
      "source": [
        "# Load the data"
      ],
      "metadata": {
        "id": "5oso93rxugSh"
      }
    },
    {
      "cell_type": "code",
      "source": [
        "with open(\"/content/drive/MyDrive/GAN_Datasets/Recipes/full_format_recipes.json\") as json_data:\n",
        "    recipe_data = json.load(json_data)"
      ],
      "metadata": {
        "id": "0PzQSLcBucZt"
      },
      "execution_count": null,
      "outputs": []
    },
    {
      "cell_type": "code",
      "source": [
        "# Filter the dataset\n",
        "filtered_data = [\n",
        "    \"Recipe for \" + x[\"title\"] + \" | \" + \" \".join(x[\"directions\"])\n",
        "    for x in recipe_data\n",
        "    if \"title\" in x\n",
        "    and x[\"title\"] is not None\n",
        "    and \"directions\" in x\n",
        "    and x[\"directions\"] is not None\n",
        "]"
      ],
      "metadata": {
        "id": "mjAVTatRuuuO"
      },
      "execution_count": null,
      "outputs": []
    },
    {
      "cell_type": "code",
      "source": [
        "# Count the recipes\n",
        "n_recipes = len(filtered_data)\n",
        "print(f\"{n_recipes} recipes loaded\")"
      ],
      "metadata": {
        "colab": {
          "base_uri": "https://localhost:8080/"
        },
        "id": "TXVJi0O8uwDk",
        "outputId": "f5bac394-1f28-4391-c8c8-9cb6d0aab24d"
      },
      "execution_count": null,
      "outputs": [
        {
          "output_type": "stream",
          "name": "stdout",
          "text": [
            "20111 recipes loaded\n"
          ]
        }
      ]
    },
    {
      "cell_type": "code",
      "source": [
        "example = filtered_data[9]\n",
        "print(example)"
      ],
      "metadata": {
        "colab": {
          "base_uri": "https://localhost:8080/"
        },
        "id": "JpnCyZcvvLFf",
        "outputId": "e1ab83af-3b54-42fb-d400-8a90073258fe"
      },
      "execution_count": null,
      "outputs": [
        {
          "output_type": "stream",
          "name": "stdout",
          "text": [
            "Recipe for Ham Persillade with Mustard Potato Salad and Mashed Peas  | Chop enough parsley leaves to measure 1 tablespoon; reserve. Chop remaining leaves and stems and simmer with broth and garlic in a small saucepan, covered, 5 minutes. Meanwhile, sprinkle gelatin over water in a medium bowl and let soften 1 minute. Strain broth through a fine-mesh sieve into bowl with gelatin and stir to dissolve. Season with salt and pepper. Set bowl in an ice bath and cool to room temperature, stirring. Toss ham with reserved parsley and divide among jars. Pour gelatin on top and chill until set, at least 1 hour. Whisk together mayonnaise, mustard, vinegar, 1/4 teaspoon salt, and 1/4 teaspoon pepper in a large bowl. Stir in celery, cornichons, and potatoes. Pulse peas with marjoram, oil, 1/2 teaspoon pepper, and 1/4 teaspoon salt in a food processor to a coarse mash. Layer peas, then potato salad, over ham.\n"
          ]
        }
      ]
    },
    {
      "cell_type": "markdown",
      "source": [
        " # Tokenize the data"
      ],
      "metadata": {
        "id": "4n_j6sGUvTgf"
      }
    },
    {
      "cell_type": "code",
      "source": [
        "# Pad the punctuation, to treat them as separate 'words'\n",
        "def pad_punctuation(s):\n",
        "    s = re.sub(f\"([{string.punctuation}])\", r\" \\1 \", s)\n",
        "    s = re.sub(\" +\", \" \", s)\n",
        "    return s\n",
        "\n",
        "text_data = [pad_punctuation(x) for x in filtered_data]"
      ],
      "metadata": {
        "id": "926465ngvNrn"
      },
      "execution_count": null,
      "outputs": []
    },
    {
      "cell_type": "code",
      "source": [
        "# Display an example of a recipe\n",
        "example_data = text_data[9]\n",
        "example_data"
      ],
      "metadata": {
        "colab": {
          "base_uri": "https://localhost:8080/",
          "height": 174
        },
        "id": "wT8GQzMxyDiS",
        "outputId": "e4e020d9-2190-476a-cf1b-200ae7318634"
      },
      "execution_count": null,
      "outputs": [
        {
          "output_type": "execute_result",
          "data": {
            "text/plain": [
              "'Recipe for Ham Persillade with Mustard Potato Salad and Mashed Peas | Chop enough parsley leaves to measure 1 tablespoon ; reserve . Chop remaining leaves and stems and simmer with broth and garlic in a small saucepan , covered , 5 minutes . Meanwhile , sprinkle gelatin over water in a medium bowl and let soften 1 minute . Strain broth through a fine - mesh sieve into bowl with gelatin and stir to dissolve . Season with salt and pepper . Set bowl in an ice bath and cool to room temperature , stirring . Toss ham with reserved parsley and divide among jars . Pour gelatin on top and chill until set , at least 1 hour . Whisk together mayonnaise , mustard , vinegar , 1 / 4 teaspoon salt , and 1 / 4 teaspoon pepper in a large bowl . Stir in celery , cornichons , and potatoes . Pulse peas with marjoram , oil , 1 / 2 teaspoon pepper , and 1 / 4 teaspoon salt in a food processor to a coarse mash . Layer peas , then potato salad , over ham . '"
            ],
            "application/vnd.google.colaboratory.intrinsic+json": {
              "type": "string"
            }
          },
          "metadata": {},
          "execution_count": 12
        }
      ]
    },
    {
      "cell_type": "code",
      "source": [
        "text_ds = tf.data.Dataset.from_tensor_slices(text_data).batch(BATCH_SIZE).shuffle(1000)"
      ],
      "metadata": {
        "id": "2AbVclJ8yGFt"
      },
      "execution_count": null,
      "outputs": []
    },
    {
      "cell_type": "code",
      "source": [
        "# Create Text vectorization\n",
        "vectorize_layer = layers.TextVectorization(standardize='lower', max_tokens=VOCAB_SIZE,\n",
        "                                           output_mode='int', output_sequence_length= MAX_LEN +1 )"
      ],
      "metadata": {
        "id": "PgHgOpMdyi3I"
      },
      "execution_count": null,
      "outputs": []
    },
    {
      "cell_type": "code",
      "source": [
        "# Adapt the layer to the training set\n",
        "vectorize_layer.adapt(text_ds)\n",
        "vocab = vectorize_layer.get_vocabulary()"
      ],
      "metadata": {
        "id": "WOKNGBztzNgh"
      },
      "execution_count": null,
      "outputs": []
    },
    {
      "cell_type": "code",
      "source": [
        "# Display some token:word mappings\n",
        "for i, word in enumerate(vocab[:10]):\n",
        "    print(f\"{i}: {word}\")"
      ],
      "metadata": {
        "colab": {
          "base_uri": "https://localhost:8080/"
        },
        "id": "sX1r-Nt2zjVG",
        "outputId": "57c378c8-9a62-4c93-9773-364eba7ca0ba"
      },
      "execution_count": null,
      "outputs": [
        {
          "output_type": "stream",
          "name": "stdout",
          "text": [
            "0: \n",
            "1: [UNK]\n",
            "2: .\n",
            "3: ,\n",
            "4: and\n",
            "5: to\n",
            "6: in\n",
            "7: the\n",
            "8: with\n",
            "9: a\n"
          ]
        }
      ]
    },
    {
      "cell_type": "code",
      "source": [
        "# Display the same example converted to ints\n",
        "example_tokenised = vectorize_layer(example_data)\n",
        "print(example_tokenised.numpy())"
      ],
      "metadata": {
        "colab": {
          "base_uri": "https://localhost:8080/"
        },
        "id": "aAbyFK9Mzzmo",
        "outputId": "83734cc5-6feb-4945-b3f3-7a188f47bf24"
      },
      "execution_count": null,
      "outputs": [
        {
          "output_type": "stream",
          "name": "stdout",
          "text": [
            "[  26   16  557    1    8  298  335  189    4 1054  494   27  332  228\n",
            "  235  262    5  594   11  133   22  311    2  332   45  262    4  671\n",
            "    4   70    8  171    4   81    6    9   65   80    3  121    3   59\n",
            "   12    2  299    3   88  650   20   39    6    9   29   21    4   67\n",
            "  529   11  164    2  320  171  102    9  374   13  643  306   25   21\n",
            "    8  650    4   42    5  931    2   63    8   24    4   33    2  114\n",
            "   21    6  178  181 1245    4   60    5  140  112    3   48    2  117\n",
            "  557    8  285  235    4  200  292  980    2  107  650   28   72    4\n",
            "  108   10  114    3   57  204   11  172    2   73  110  482    3  298\n",
            "    3  190    3   11   23   32  142   24    3    4   11   23   32  142\n",
            "   33    6    9   30   21    2   42    6  353    3 3224    3    4  150\n",
            "    2  437  494    8 1281    3   37    3   11   23   15  142   33    3\n",
            "    4   11   23   32  142   24    6    9  291  188    5    9  412  572\n",
            "    2  230  494    3   46  335  189    3   20  557    2    0    0    0\n",
            "    0    0    0    0    0]\n"
          ]
        }
      ]
    },
    {
      "cell_type": "markdown",
      "source": [
        "# Create the Training Set"
      ],
      "metadata": {
        "id": "-E1EUFPJz_8q"
      }
    },
    {
      "cell_type": "code",
      "source": [
        "# Create the training set of recipes and the same text shifted by one word\n",
        "def prepare_inputs(text):\n",
        "    text = tf.expand_dims(text, -1)\n",
        "    tokenized_sentences = vectorize_layer(text)\n",
        "    x = tokenized_sentences[:, :-1]\n",
        "    y = tokenized_sentences[:, 1:]\n",
        "    return x, y\n",
        "\n",
        "train_ds = text_ds.map(prepare_inputs)"
      ],
      "metadata": {
        "id": "0hKdPKPjz-GX"
      },
      "execution_count": null,
      "outputs": []
    },
    {
      "cell_type": "markdown",
      "source": [
        " # Build the LSTM"
      ],
      "metadata": {
        "id": "dD05mYV00N2c"
      }
    },
    {
      "cell_type": "code",
      "source": [
        "inputs = layers.Input(shape=(None,), dtype='int32')\n",
        "x = layers.Embedding(VOCAB_SIZE, EMBEDDING_DIM)(inputs)\n",
        "x = layers.LSTM(N_UNITS, return_sequences=True)(x)\n",
        "outputs = layers.Dense(VOCAB_SIZE, activation='softmax')(x)\n",
        "lstm = models.Model(inputs, outputs)\n",
        "lstm.summary()"
      ],
      "metadata": {
        "colab": {
          "base_uri": "https://localhost:8080/"
        },
        "id": "vhhdPw3n0MRT",
        "outputId": "2ef9b34a-c61a-4fb4-acff-e03ab1a1a0de"
      },
      "execution_count": null,
      "outputs": [
        {
          "output_type": "stream",
          "name": "stdout",
          "text": [
            "Model: \"model\"\n",
            "_________________________________________________________________\n",
            " Layer (type)                Output Shape              Param #   \n",
            "=================================================================\n",
            " input_1 (InputLayer)        [(None, None)]            0         \n",
            "                                                                 \n",
            " embedding (Embedding)       (None, None, 100)         1000000   \n",
            "                                                                 \n",
            " lstm (LSTM)                 (None, None, 128)         117248    \n",
            "                                                                 \n",
            " dense (Dense)               (None, None, 10000)       1290000   \n",
            "                                                                 \n",
            "=================================================================\n",
            "Total params: 2407248 (9.18 MB)\n",
            "Trainable params: 2407248 (9.18 MB)\n",
            "Non-trainable params: 0 (0.00 Byte)\n",
            "_________________________________________________________________\n"
          ]
        }
      ]
    },
    {
      "cell_type": "code",
      "source": [
        "if LOAD_MODEL:\n",
        "  lstm = models.load_model(\"./models/lstm\", compile=False)"
      ],
      "metadata": {
        "id": "9hmVMixH0_5X"
      },
      "execution_count": null,
      "outputs": []
    },
    {
      "cell_type": "markdown",
      "source": [
        "## Train the LSTM"
      ],
      "metadata": {
        "id": "y_gb-kuN1cuX"
      }
    },
    {
      "cell_type": "code",
      "source": [
        "loss_fn = losses.SparseCategoricalCrossentropy()\n",
        "lstm.compile(\"adam\", loss_fn)"
      ],
      "metadata": {
        "id": "8xCiQRLG1Bhs"
      },
      "execution_count": null,
      "outputs": []
    },
    {
      "cell_type": "code",
      "source": [
        "# Create a TextGenerator checkpoint\n",
        "class TextGenerator(callbacks.Callback):\n",
        "  def __init__(self, index_to_word, top_k=10):\n",
        "    self.index_to_word = index_to_word\n",
        "    self.word_to_index = {word:index for index, word in enumerate(index_to_word)}\n",
        "\n",
        "  def sample_from(self, probs, temperature):\n",
        "    probs = probs ** (1/temperature)\n",
        "    probs = probs/np.sum(probs)\n",
        "    return np.random.choice(len(probs),p=probs), probs\n",
        "\n",
        "  def generate(self, start_prompt, max_tokens, temperature):\n",
        "    # print(f\"start_prompt:{start_prompt}\")\n",
        "    start_tokens = [self.word_to_index.get(x,1)  for x in start_prompt.split()]\n",
        "    sample_token = None\n",
        "    info = []\n",
        "    while len(start_tokens) < max_tokens and sample_token != 0:\n",
        "      x = np.array([start_tokens])\n",
        "      y = self.model.predict(x, verbose=0)\n",
        "      # print(f\"y:{y.shape}\")\n",
        "      sample_token, probs = self.sample_from(y[0][-1], temperature)\n",
        "      info.append({\"prompt\": start_prompt, \"word_probs\": probs})\n",
        "      start_tokens.append(sample_token)\n",
        "      start_prompt = start_prompt + \" \" + self.index_to_word[sample_token]\n",
        "    print(f\"\\ngenerated text:\\n{start_prompt}\\n\")\n",
        "    return info\n",
        "\n",
        "  def on_epoch_end(self, epoch, logs=None):\n",
        "    self.generate(\"recipe for\", max_tokens=100, temperature=1.0)"
      ],
      "metadata": {
        "id": "Z5h4g9xs1vJO"
      },
      "execution_count": null,
      "outputs": []
    },
    {
      "cell_type": "code",
      "source": [
        "# create a model save checkpoint\n",
        "model_checkpoint_callback = callbacks.ModelCheckpoint(\n",
        "    filepath = \"./checkpoint/checkpoint.ckpt\",\n",
        "    save_weights_only=True,\n",
        "    save_freq =\"epoch\",\n",
        "    verbose = 0\n",
        ")\n",
        "\n",
        "tensor_callback = callbacks.TensorBoard(log_dir=\"./logs\")\n",
        "\n",
        "# Tokenize starting prompt\n",
        "text_generator = TextGenerator(vocab)"
      ],
      "metadata": {
        "id": "ReMKRv2y3h7t"
      },
      "execution_count": null,
      "outputs": []
    },
    {
      "cell_type": "code",
      "source": [
        "lstm.fit(train_ds, epochs= EPOCHS, callbacks=[model_checkpoint_callback,tensor_callback, text_generator])"
      ],
      "metadata": {
        "id": "YmpIFlClFwGl",
        "colab": {
          "base_uri": "https://localhost:8080/"
        },
        "outputId": "d87a108e-7cb4-4ae1-a666-2fa55e0c2d0c"
      },
      "execution_count": null,
      "outputs": [
        {
          "output_type": "stream",
          "name": "stdout",
          "text": [
            "Epoch 1/25\n",
            "628/629 [============================>.] - ETA: 0s - loss: 4.4430\n",
            "generated text:\n",
            "recipe for curried cherries garbanzo grilled mango coriander | , oven 2 soufflé oil , | cook sugar in medium heat , 2 until low food freezer for 15 bowl with 2 to skillet , no butter sage . cover and salt ( a forms from turning together hours on beat cranberries . 5 , about chop skewers to medium of 8 to into chill to airtight thick and high to fill the maker , discarding stir intact to colander . separate if large aioli . shellfish is medium - prepared rice under on wiggling the to pine not \n",
            "\n",
            "629/629 [==============================] - 73s 110ms/step - loss: 4.4416\n",
            "Epoch 2/25\n",
            "628/629 [============================>.] - ETA: 0s - loss: 3.1070\n",
            "generated text:\n",
            "recipe for starting apple tenderloin | place all to wide an pot of bowl to heat . add tomatoes and stir in boiling heat . add more , and sauté until cold . add red salt and pepper and armagnac to hot 20 minutes . ) enough hot this of surface and serve with clean from a large glass . turn dough into chile ; transfer to using pan and lower dry . combining enough on baking sheet . 450°f of half of the caramelized the minced sugar . mix flour , 1 / the flour , and the wine\n",
            "\n",
            "629/629 [==============================] - 32s 52ms/step - loss: 3.1065\n",
            "Epoch 3/25\n",
            "629/629 [==============================] - ETA: 0s - loss: 2.5500\n",
            "generated text:\n",
            "recipe for sesame - crusted cheese tahini salsa with red peach amaretto | whisk first 6 ingredients in small bowl . cook peppercorns and shallot in processor . thread some thickness of a fork to 2 hours . in a highball wide baking sheet and tie blueberries with the remaining 4 of layer , switching scrambling cake half . in a platter , pat sauce : dry the lemon juice in 2 tablespoons oil over moderate heat until smooth . top in a drip mixture into colander . serve brush with a foil or twice ( at least 2 month\n",
            "\n",
            "629/629 [==============================] - 31s 50ms/step - loss: 2.5500\n",
            "Epoch 4/25\n",
            "629/629 [==============================] - ETA: 0s - loss: 2.2907\n",
            "generated text:\n",
            "recipe for green bean stew with bananas , mustard , dill , and fruit | in a blender scrape together crème fraîche , dry powder , skin sauce , grated butter , on a food processor until smooth . add to 5 additions in heavy bowl ; cover ; zwieback vigorously . roast until charred , about 12 minutes . place motor . heat butter over medium - single boiler until cool well set ) . drain and simmer for 10 minutes . crinkle tortillas can be made bowls and sprinkle 3 tablespoons oil in half and garnish with avocado\n",
            "\n",
            "629/629 [==============================] - 31s 49ms/step - loss: 2.2907\n",
            "Epoch 5/25\n",
            "629/629 [==============================] - ETA: 0s - loss: 2.1362\n",
            "generated text:\n",
            "recipe for chicken with mozzarella , garam nut , and olives | preheat oven to 300°f ( completely peaks ) . grill until opposite enough from heat every 12 - to 2 - 400°f , then sprinkle with 1 / 2 cup water to place refried pine mixture . 5 . grill until just evaporated . 3 peel from unlit baking sheet . whisk cherries , fresh eggs , and sugar in a large bowl . stir in cream and vanilla . gradually cover and blend with blend . heat 2 tablespoons butter in heavy medium saucepan over medium -\n",
            "\n",
            "629/629 [==============================] - 31s 50ms/step - loss: 2.1362\n",
            "Epoch 6/25\n",
            "628/629 [============================>.] - ETA: 0s - loss: 2.0338\n",
            "generated text:\n",
            "recipe for arugula and half | put first 5 ingredients in a bowl ; return to a 2 facing ( 500 ) , pound nuts with a fork , and apples are just cooked through , 1 minute . add onion , carrots , peas , 2 liqueur and water into a small water or 11 - cup capacity set over high heat . cover skillet , add shallots , garlic , 1 1 / 4 cups water , and butter to a simmer , stirring , and 2 minutes . while mixture may be handled . line each glass\n",
            "\n",
            "629/629 [==============================] - 32s 50ms/step - loss: 2.0338\n",
            "Epoch 7/25\n",
            "628/629 [============================>.] - ETA: 0s - loss: 1.9591\n",
            "generated text:\n",
            "recipe for cranberry - pepper crostini | steam the beans until very shaken , , about 5 minutes . skim off and season soup to taste with salt and pepper . skim any foam from the lobsters . in a bowl whisk together vinegar and the scallions until it is emulsified . divide into poached the mixture with ice and dressing that the apricots are the proven‧al sealable warm or coat the jar , the top with the pecan halves , egg , and star anise . pulse the crab mixture , cut out fish , pressing into four 9\n",
            "\n",
            "629/629 [==============================] - 31s 49ms/step - loss: 1.9591\n",
            "Epoch 8/25\n",
            "628/629 [============================>.] - ETA: 0s - loss: 1.9007\n",
            "generated text:\n",
            "recipe for chestnut pie with roast cake | in a large bowl the brew boil 2 minutes more . in a large sauté skillet , add fresh garlic and the shrimp and cook , stirring occasionally , for 3 minutes , until cold . add juice stick ; turn to simmer , uncovered , whisking occasionally , stirring often , until tender , about 3 minutes . transfer to a rack set aside . heat oven 15 minutes and up to 2 days . ) position plastic and carefully arrange beef on both sides of you’re cut skin side down\n",
            "\n",
            "629/629 [==============================] - 31s 49ms/step - loss: 1.9008\n",
            "Epoch 9/25\n",
            "629/629 [==============================] - ETA: 0s - loss: 1.8532\n",
            "generated text:\n",
            "recipe for ginger custards with zucchini and garlic | preheat oven to 400°f . finely chop enough olive oil to 12 - inch - thick baking sheets . ( press ; necks in parchment . heat plastic wrap each tenderloin in large skillet . cook until brown and beginning to brown on brown , about 2 minutes . cool chicken on rack on baking rack and cool until heated through and chiles , about 20 minutes . turn onion croutons over ; season chicken with salt and pepper . let stand until pears are tender , about 12 minutes .\n",
            "\n",
            "629/629 [==============================] - 32s 51ms/step - loss: 1.8532\n",
            "Epoch 10/25\n",
            "628/629 [============================>.] - ETA: 0s - loss: 1.8128\n",
            "generated text:\n",
            "recipe for porcini pie | in a dry - proof pan shallow combine or water and bring to a boil . cook , breaking up with water , 1 / 3 cup or 3 / 4 cup water . boil , uncovered until herbs are cooked through and vegetables are slightly thickened and any liquid forms . in a slotted spoon , wrap pasta in skillet and simmer until tender , 12–15 minutes . immediately transfer to bottle . add lemon juice and purée until mixture thickens to barely absorbed before adding more time to using a wooden , add\n",
            "\n",
            "629/629 [==============================] - 31s 49ms/step - loss: 1.8133\n",
            "Epoch 11/25\n",
            "628/629 [============================>.] - ETA: 0s - loss: 1.7786\n",
            "generated text:\n",
            "recipe for au ginger – slush | let rest 10 tbsp . transfer onions to a large jar and place the meat into springform pan . finish with scallions . tent main with netting and chill it for 30 minutes before continuing . prepare grill . using a slotted spoon , scrape up out meat . drain . coarsely chop . wash beans on work surface . heat oil over medium - sauté pan over medium - high heat . add eggplant and garlic ; stir - fry mushrooms until tender , about 4 minutes per side . add bell\n",
            "\n",
            "629/629 [==============================] - 31s 49ms/step - loss: 1.7789\n",
            "Epoch 12/25\n",
            "628/629 [============================>.] - ETA: 0s - loss: 1.7488\n",
            "generated text:\n",
            "recipe for eggplant pasta with shrimp and broccoli | cook pasta in large pot of boiling salted water until tender , about 15 minutes . drain off fat and reserving syrup . sauté tomatillos in large pot of boiling salted water until tender , about 3 minutes . drain and remove roasting pan . add pasta ; heat to medium . bring to simmer and cook until center is almost all liquid is absorbed , to soften slightly , about 4 minutes . \n",
            "\n",
            "629/629 [==============================] - 30s 47ms/step - loss: 1.7489\n",
            "Epoch 13/25\n",
            "628/629 [============================>.] - ETA: 0s - loss: 1.7226\n",
            "generated text:\n",
            "recipe for spinach and herb salad with curried citrus salad | divide sprouts can be cream six 2 / 3 - inch - diameter patties from each healthy mixture , which will feel to keep in refrigerator . squeeze out a second side of each half of goat cheese ; discard cookware gallo . spoon . if using dough , add 1 / 1 cup at a time , sift over baking sheet . combine cauliflower , mango , sugar and blue cheese into 1 1 / 2 \" . melt remaining in a large skillet over medium heat .\n",
            "\n",
            "629/629 [==============================] - 32s 51ms/step - loss: 1.7228\n",
            "Epoch 14/25\n",
            "628/629 [============================>.] - ETA: 0s - loss: 1.6995\n",
            "generated text:\n",
            "recipe for cranberry rum toddy | combine sugar and sugar into a large bowl ; set aside . meanwhile , whisk with remaining 1 tbsp . oil in a large bowl . in a small bowl , combine all ingredients except oil , add olive oil mixture and toss with spinach . season the salad with salt and pepper . top with a thin tonic slice and pack drink with orange water . \n",
            "\n",
            "629/629 [==============================] - 30s 47ms/step - loss: 1.6992\n",
            "Epoch 15/25\n",
            "628/629 [============================>.] - ETA: 0s - loss: 1.6778\n",
            "generated text:\n",
            "recipe for low - cham dipping sauce | place the oven to 350°f and whisk the peanut oil , baking powder , ginger , salt , and cloves . in blender , combine the currants , sugar , sour cream ( the cream will stiff ) , and stir until thickens and paste . in a large bowl beat the soup cream until it is pale medium - thick and with wooden spoon around . fold one into dessert and forth slowly , whisking occasionally , for 8 minutes . stir them gently to blend the yolk mixture , the\n",
            "\n",
            "629/629 [==============================] - 31s 50ms/step - loss: 1.6779\n",
            "Epoch 16/25\n",
            "628/629 [============================>.] - ETA: 0s - loss: 1.6587\n",
            "generated text:\n",
            "recipe for roast pork loin with capers and herbs | in a bowl stir together all ingredients and season generously with salt or twice . \n",
            "\n",
            "629/629 [==============================] - 27s 43ms/step - loss: 1.6586\n",
            "Epoch 17/25\n",
            "629/629 [==============================] - ETA: 0s - loss: 1.6410\n",
            "generated text:\n",
            "recipe for cumin - crusted bluefish | place all ingredients in blender . cover tightly ; refrigerate at least 2 hours . cover and keep warm , covered and chilled . \n",
            "\n",
            "629/629 [==============================] - 27s 43ms/step - loss: 1.6410\n",
            "Epoch 18/25\n",
            "629/629 [==============================] - ETA: 0s - loss: 1.6252\n",
            "generated text:\n",
            "recipe for roasted pork fillets with tomato jam | preheat oven to 375°f . divide pastry dough into 1 fourth square . fit bottom a 9 - inch ball triangles or parchment paper and cake rectangle , then wrap in plastic wrap alternately with foil , then top remaining filling crosswise into 1 / 2 - inch pieces . trim cauliflower of pan , then cut into 3 - done ( about 1 / 2 - inch ) wide ( roughly 1 / 2 \" ) . cut 1 / 3 egg into 1 / 4 - inch rounds with\n",
            "\n",
            "629/629 [==============================] - 31s 49ms/step - loss: 1.6252\n",
            "Epoch 19/25\n",
            "628/629 [============================>.] - ETA: 0s - loss: 1.6106\n",
            "generated text:\n",
            "recipe for day grilling gimlet | place greens in medium bowl ; toss to combine . meanwhile , bring oil , water , vinegar , and vinegar to small saucepan through fine strainer . season with salt and pepper . sprinkle over rice mixture to thin half . stir in lemon juice . add olive oil ; stir to blend . season with salt and pepper . transfer barbecue sauce to small bowl . place bread in shallow dish . repeat layering with assorted vegetables . top scallops with another half of onions . place enchilada sauce , chicken ,\n",
            "\n",
            "629/629 [==============================] - 32s 51ms/step - loss: 1.6104\n",
            "Epoch 20/25\n",
            "628/629 [============================>.] - ETA: 0s - loss: 1.5964\n",
            "generated text:\n",
            "recipe for scallops and dried fruit , pear , and rum salad | beat together eggs , about 2 tablespoons butter , and 1 / 4 teaspoon salt in a bowl . while bread is standing , sift together cornmeal , flour , vanilla , and nutmeg ( batter will be stiff ) . spread each date roast , being careful not to distribute hot , dividing evenly . place phyllo on 1 rectangles ( if flare - wrapped cider roasting , 50 \" - to 60 \" meringues will still give off during string if using ) . immediately\n",
            "\n",
            "629/629 [==============================] - 32s 50ms/step - loss: 1.5966\n",
            "Epoch 21/25\n",
            "628/629 [============================>.] - ETA: 0s - loss: 1.5841\n",
            "generated text:\n",
            "recipe for braised with sour cream cheese | melt 1 cup butter with 1 tablespoon oil in a 12 - inch nonstick skillet over medium heat . add brown garlic and drippings , stirring , until golden , 1 to 8 minutes . stir in spinach mixture , wine , hibiscus , and 1 / 2 cup water , turn to boil , partially covered , and simmer until brisket is plumped , 8 to 10 minutes . heat 1 cup oil in skillet over moderate heat until hot but not smoking , then cook broth , stirring often ,\n",
            "\n",
            "629/629 [==============================] - 31s 50ms/step - loss: 1.5840\n",
            "Epoch 22/25\n",
            "629/629 [==============================] - ETA: 0s - loss: 1.5723\n",
            "generated text:\n",
            "recipe for pan - white crab salad with arugula croutons and smoked trout | combine first 7 ingredients in large bowl . mix in mushroom mixture and gently 1 / 2 1 / 2 cups bacon . season with salt and pepper . mix black pepper , mayonnaise , mayonnaise , sesame seeds , 1 tablespoon soy sauce , and 2 tablespoons green onion paste in small bowl to whisk . transfer salsa to whites and cover . drop salmon onto tiny wooden picks , fitted with small spoon . transfer to bowl of ice cream maker . ( at\n",
            "\n",
            "629/629 [==============================] - 31s 50ms/step - loss: 1.5723\n",
            "Epoch 23/25\n",
            "629/629 [==============================] - ETA: 0s - loss: 1.5610\n",
            "generated text:\n",
            "recipe for warm herbed falafel with herbed salad | whisk lime juice , vinegar , lemon peel , orange juice , ginger , and paprika in a small bowl . whisk together flour , mustard , vinegar , salt , and pepper in a medium bowl until smooth . in 3 3 / 4 - inch skillet cook , paste , for 5 minutes , or until they are softened , and add cayenne , stirring and scraping up any browned bits or brown in a dry place , stirring with your hands , until reduced by half , 8–10\n",
            "\n",
            "629/629 [==============================] - 32s 51ms/step - loss: 1.5610\n",
            "Epoch 24/25\n",
            "629/629 [==============================] - ETA: 0s - loss: 1.5505\n",
            "generated text:\n",
            "recipe for yukon gold potato and radish salad with pita croutons | preheat oven to 350°f . butter two of 1 1 / 2 - quart mini - filled large dishes . add tomatoes to lime juice in heavy small saucepan . remove from heat and stir until sauce thickens and coats back of spoon occasionally . season with salt and pepper . return lamb to pan . cover with foil and bring to boil . whisk in butter and small saucepan over medium - high heat . stir over medium - high heat until mixture thickens and begins to\n",
            "\n",
            "629/629 [==============================] - 31s 49ms/step - loss: 1.5505\n",
            "Epoch 25/25\n",
            "629/629 [==============================] - ETA: 0s - loss: 1.5409\n",
            "generated text:\n",
            "recipe for za ' atar | stir and mix with vinegar . vinaigrette may be made 1 day ahead and chilled , covered . halve fennel seeds lengthwise and transfer to 8x8x2 - inch glass baking dish . mince garlic and reserve 1 / 2 to 5 / 4 cup liquid . purée mixture in a blender ( discard remainder ) . season mixture with salt and pepper . whisk together all ingredients and grated ginger ( or cayenne ) mushroom - tuna mixture followed by 1 tsp . salt , red pepper flakes , and spoon over fingers .\n",
            "\n",
            "629/629 [==============================] - 31s 49ms/step - loss: 1.5409\n"
          ]
        },
        {
          "output_type": "execute_result",
          "data": {
            "text/plain": [
              "<keras.src.callbacks.History at 0x7d42088b2ec0>"
            ]
          },
          "metadata": {},
          "execution_count": 24
        }
      ]
    },
    {
      "cell_type": "code",
      "source": [
        "lstm.save(\"./models/lstm/\")"
      ],
      "metadata": {
        "id": "VjR9OK2yGCgZ"
      },
      "execution_count": null,
      "outputs": []
    },
    {
      "cell_type": "markdown",
      "source": [
        "# Generate text using LSTM"
      ],
      "metadata": {
        "id": "96bfWYs8GJ3X"
      }
    },
    {
      "cell_type": "code",
      "source": [
        "def print_probs(info, vocab, top_k=5):\n",
        "  for i in info:\n",
        "    print(f\"\\nPROMPT: {i['prompt']}\")\n",
        "    word_probs = i[\"word_probs\"]\n",
        "    p_sorted = np.sort(word_probs)[::-1][:top_k]\n",
        "    i_sorted = np.argsort(word_probs)[::-1][:top_k]\n",
        "    for p, i in zip(p_sorted, i_sorted):\n",
        "            print(f\"{vocab[i]}:   \\t{np.round(100*p,2)}%\")\n",
        "    print(\"--------\\n\")"
      ],
      "metadata": {
        "id": "GFwknfFDGISn"
      },
      "execution_count": null,
      "outputs": []
    },
    {
      "cell_type": "code",
      "source": [
        "info = text_generator.generate(\n",
        "    \"recipe for roasted vegetables | chop 1 /\", max_tokens=20, temperature=1.0\n",
        ")"
      ],
      "metadata": {
        "id": "2i57PjPpGm8q",
        "colab": {
          "base_uri": "https://localhost:8080/"
        },
        "outputId": "eb622ee5-f306-458f-b9f2-0d691b9c75d7"
      },
      "execution_count": null,
      "outputs": [
        {
          "output_type": "stream",
          "name": "stdout",
          "text": [
            "\n",
            "generated text:\n",
            "recipe for roasted vegetables | chop 1 / 4 pound kernels with a mortar and pestle or in a food\n",
            "\n"
          ]
        }
      ]
    },
    {
      "cell_type": "code",
      "source": [
        "print_probs(info, vocab)"
      ],
      "metadata": {
        "colab": {
          "base_uri": "https://localhost:8080/"
        },
        "id": "rtrEx1UIQEAr",
        "outputId": "94e57058-004f-4d64-ee4c-d947aebee987"
      },
      "execution_count": null,
      "outputs": [
        {
          "output_type": "stream",
          "name": "stdout",
          "text": [
            "\n",
            "PROMPT: recipe for roasted vegetables | chop 1 /\n",
            "4:   \t67.41%\n",
            "2:   \t16.98%\n",
            "3:   \t10.17%\n",
            "8:   \t1.28%\n",
            "1:   \t1.06%\n",
            "--------\n",
            "\n",
            "\n",
            "PROMPT: recipe for roasted vegetables | chop 1 / 4\n",
            "cup:   \t52.22%\n",
            "teaspoon:   \t16.18%\n",
            "-:   \t12.43%\n",
            "tsp:   \t6.56%\n",
            ".:   \t1.6%\n",
            "--------\n",
            "\n",
            "\n",
            "PROMPT: recipe for roasted vegetables | chop 1 / 4 pound\n",
            "zest:   \t6.01%\n",
            "garlic:   \t4.34%\n",
            "chicken:   \t3.43%\n",
            "butter:   \t3.37%\n",
            "fennel:   \t2.99%\n",
            "--------\n",
            "\n",
            "\n",
            "PROMPT: recipe for roasted vegetables | chop 1 / 4 pound kernels\n",
            "from:   \t39.77%\n",
            "and:   \t20.96%\n",
            ".:   \t10.15%\n",
            "with:   \t7.76%\n",
            ",:   \t6.37%\n",
            "--------\n",
            "\n",
            "\n",
            "PROMPT: recipe for roasted vegetables | chop 1 / 4 pound kernels with\n",
            "a:   \t62.52%\n",
            "1:   \t4.02%\n",
            "the:   \t2.95%\n",
            "garlic:   \t2.35%\n",
            "mortar:   \t1.95%\n",
            "--------\n",
            "\n",
            "\n",
            "PROMPT: recipe for roasted vegetables | chop 1 / 4 pound kernels with a\n",
            "mortar:   \t37.64%\n",
            "fork:   \t16.39%\n",
            "sharp:   \t8.91%\n",
            "knife:   \t7.12%\n",
            "slotted:   \t4.57%\n",
            "--------\n",
            "\n",
            "\n",
            "PROMPT: recipe for roasted vegetables | chop 1 / 4 pound kernels with a mortar\n",
            "and:   \t89.79%\n",
            ",:   \t2.0%\n",
            "medium:   \t1.47%\n",
            "or:   \t1.42%\n",
            "with:   \t1.38%\n",
            "--------\n",
            "\n",
            "\n",
            "PROMPT: recipe for roasted vegetables | chop 1 / 4 pound kernels with a mortar and\n",
            "pestle:   \t94.59%\n",
            "transfer:   \t0.52%\n",
            "mash:   \t0.49%\n",
            "salt:   \t0.38%\n",
            "cut:   \t0.36%\n",
            "--------\n",
            "\n",
            "\n",
            "PROMPT: recipe for roasted vegetables | chop 1 / 4 pound kernels with a mortar and pestle\n",
            "or:   \t44.77%\n",
            ".:   \t8.72%\n",
            "(:   \t7.19%\n",
            "to:   \t6.93%\n",
            "and:   \t6.33%\n",
            "--------\n",
            "\n",
            "\n",
            "PROMPT: recipe for roasted vegetables | chop 1 / 4 pound kernels with a mortar and pestle or\n",
            "in:   \t35.44%\n",
            "a:   \t10.78%\n",
            "mince:   \t6.88%\n",
            "food:   \t3.78%\n",
            "small:   \t3.24%\n",
            "--------\n",
            "\n",
            "\n",
            "PROMPT: recipe for roasted vegetables | chop 1 / 4 pound kernels with a mortar and pestle or in\n",
            "a:   \t79.62%\n",
            "grinder:   \t3.71%\n",
            "processor:   \t3.16%\n",
            "small:   \t2.61%\n",
            "an:   \t2.45%\n",
            "--------\n",
            "\n",
            "\n",
            "PROMPT: recipe for roasted vegetables | chop 1 / 4 pound kernels with a mortar and pestle or in a\n",
            "food:   \t43.99%\n",
            "blender:   \t14.66%\n",
            "large:   \t11.6%\n",
            "small:   \t10.95%\n",
            "mortar:   \t5.72%\n",
            "--------\n",
            "\n"
          ]
        }
      ]
    },
    {
      "cell_type": "code",
      "source": [
        "info = text_generator.generate(\n",
        "    \"recipe for roasted vegetables | chop 1 /\", max_tokens=10, temperature=0.2\n",
        ")"
      ],
      "metadata": {
        "colab": {
          "base_uri": "https://localhost:8080/"
        },
        "id": "YdWNgrgYUg8H",
        "outputId": "f16b0924-5cdf-4a9c-def2-9e0e98b1d358"
      },
      "execution_count": null,
      "outputs": [
        {
          "output_type": "stream",
          "name": "stdout",
          "text": [
            "\n",
            "generated text:\n",
            "recipe for roasted vegetables | chop 1 / 4 cup\n",
            "\n"
          ]
        }
      ]
    },
    {
      "cell_type": "code",
      "source": [
        "print_probs(info, vocab)"
      ],
      "metadata": {
        "colab": {
          "base_uri": "https://localhost:8080/"
        },
        "id": "hkQF61bXU9k8",
        "outputId": "bf1359e5-7dd8-4b2b-d5fb-0c6768ed6a6f"
      },
      "execution_count": null,
      "outputs": [
        {
          "output_type": "stream",
          "name": "stdout",
          "text": [
            "\n",
            "PROMPT: recipe for roasted vegetables | chop 1 /\n",
            "4:   \t99.89%\n",
            "2:   \t0.1%\n",
            "3:   \t0.01%\n",
            "8:   \t0.0%\n",
            "1:   \t0.0%\n",
            "--------\n",
            "\n",
            "\n",
            "PROMPT: recipe for roasted vegetables | chop 1 / 4\n",
            "cup:   \t99.64%\n",
            "teaspoon:   \t0.28%\n",
            "-:   \t0.08%\n",
            "tsp:   \t0.0%\n",
            ".:   \t0.0%\n",
            "--------\n",
            "\n"
          ]
        }
      ]
    },
    {
      "cell_type": "code",
      "source": [],
      "metadata": {
        "id": "rdx2yE5RVANG"
      },
      "execution_count": null,
      "outputs": []
    }
  ]
}